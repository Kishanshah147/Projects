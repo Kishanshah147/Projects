{
 "cells": [
  {
   "cell_type": "code",
   "execution_count": 16,
   "metadata": {},
   "outputs": [
    {
     "name": "stdout",
     "output_type": "stream",
     "text": [
      "[nltk_data] Downloading package punkt to\n",
      "[nltk_data]     /Users/kishanshah/nltk_data...\n",
      "[nltk_data]   Unzipping tokenizers/punkt.zip.\n"
     ]
    },
    {
     "data": {
      "text/plain": [
       "True"
      ]
     },
     "execution_count": 16,
     "metadata": {},
     "output_type": "execute_result"
    }
   ],
   "source": [
    "#Imports\n",
    "import pandas as pd\n",
    "from newspaper import Article\n",
    "import nltk\n",
    "nltk.download('punkt')"
   ]
  },
  {
   "cell_type": "code",
   "execution_count": 10,
   "metadata": {
    "collapsed": true
   },
   "outputs": [],
   "source": [
    "#Example link from the New York Times\n",
    "link = 'http://www.foxnews.com/opinion/2018/03/23/heres-why-facebook-cambridge-analytica-controversy-matters.html'\n",
    "#Pass link object into Article\n",
    "article = Article(link)\n",
    "#Call the download and parse methods to download information\n",
    "article.download()\n",
    "article.parse()"
   ]
  },
  {
   "cell_type": "code",
   "execution_count": 11,
   "metadata": {},
   "outputs": [
    {
     "data": {
      "text/plain": [
       "\"Here's why the Facebook-Cambridge Analytica controversy matters\""
      ]
     },
     "execution_count": 11,
     "metadata": {},
     "output_type": "execute_result"
    }
   ],
   "source": [
    "#Returns title of the article\n",
    "article.title"
   ]
  },
  {
   "cell_type": "code",
   "execution_count": 12,
   "metadata": {},
   "outputs": [
    {
     "data": {
      "text/plain": [
       "datetime.datetime(2018, 3, 23, 0, 0)"
      ]
     },
     "execution_count": 12,
     "metadata": {},
     "output_type": "execute_result"
    }
   ],
   "source": [
    "#Returns the date of publishing of the article\n",
    "article.publish_date"
   ]
  },
  {
   "cell_type": "code",
   "execution_count": 13,
   "metadata": {},
   "outputs": [
    {
     "data": {
      "text/plain": [
       "'Cambridge Analytica is being loudly criticized for apparently using massive amounts of data on 50 million Facebook users to formulate political advertising on behalf of the Trump campaign after receiving the data from Cambridge University researcher Aleksandr Kogan. Facebook is calling this a violation of its terms of use for the researcher, who was only authorized to use the information for resea'"
      ]
     },
     "execution_count": 13,
     "metadata": {},
     "output_type": "execute_result"
    }
   ],
   "source": [
    "#Returns first 400 characters of the article's text\n",
    "article.text[:400]"
   ]
  },
  {
   "cell_type": "code",
   "execution_count": 17,
   "metadata": {},
   "outputs": [],
   "source": [
    "#Runs nlp method to extract the keywords and summary of the article\n",
    "article.nlp()"
   ]
  },
  {
   "cell_type": "code",
   "execution_count": 18,
   "metadata": {},
   "outputs": [
    {
     "data": {
      "text/plain": [
       "['cambridge',\n",
       " 'users',\n",
       " 'facebookcambridge',\n",
       " 'analytica',\n",
       " 'facebook',\n",
       " 'controversy',\n",
       " 'heres',\n",
       " 'matters',\n",
       " 'used',\n",
       " 'privacy',\n",
       " 'social',\n",
       " 'political',\n",
       " 'public',\n",
       " 'data',\n",
       " 'musician']"
      ]
     },
     "execution_count": 18,
     "metadata": {},
     "output_type": "execute_result"
    }
   ],
   "source": [
    "#Return article's keywords\n",
    "article.keywords"
   ]
  },
  {
   "cell_type": "code",
   "execution_count": 19,
   "metadata": {},
   "outputs": [
    {
     "data": {
      "text/plain": [
       "'However, there is nothing illegal about companies such as Cambridge Analytica using gathered data for political campaigns.\\nTheir liability relates to allegedly having received the data and used it without the permission of Facebook.\\nWhile the Obama campaign used social media information harvested from Facebook to target voters, they did so in compliance with the standards of Facebook at the time.\\nA big part of the problem is that many people don’t realize that they have agreed to have their data used for commercial purposes.\\nResearchers at Stanford and Cambridge University’s Psychometrics Center used Facebook “likes” to create such a model by scoring a person’s openness, conscientiousness, extraversion, agreeableness and neuroticism.'"
      ]
     },
     "execution_count": 19,
     "metadata": {},
     "output_type": "execute_result"
    }
   ],
   "source": [
    "#Return article's summary\n",
    "article.summary"
   ]
  }
 ],
 "metadata": {
  "kernelspec": {
   "display_name": "Python 3",
   "language": "python",
   "name": "python3"
  },
  "language_info": {
   "codemirror_mode": {
    "name": "ipython",
    "version": 3
   },
   "file_extension": ".py",
   "mimetype": "text/x-python",
   "name": "python",
   "nbconvert_exporter": "python",
   "pygments_lexer": "ipython3",
   "version": "3.6.3"
  }
 },
 "nbformat": 4,
 "nbformat_minor": 2
}
